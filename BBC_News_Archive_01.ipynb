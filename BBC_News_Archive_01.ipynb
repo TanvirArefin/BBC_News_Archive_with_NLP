{
  "cells": [
    {
      "cell_type": "markdown",
      "id": "a7029ad2",
      "metadata": {
        "id": "a7029ad2"
      },
      "source": [
        "# Load Libraries"
      ]
    },
    {
      "cell_type": "code",
      "execution_count": null,
      "id": "18e757f2",
      "metadata": {
        "deletable": false,
        "editable": false,
        "id": "18e757f2",
        "tags": [
          "graded"
        ]
      },
      "outputs": [],
      "source": [
        "import csv\n",
        "import pandas as pd\n",
        "import numpy as np\n",
        "import tensorflow as tf"
      ]
    },
    {
      "cell_type": "code",
      "execution_count": null,
      "id": "ffae3497",
      "metadata": {
        "deletable": false,
        "editable": false,
        "id": "ffae3497",
        "outputId": "0d62a3b8-9915-4982-87b7-9d6b20aadbe0"
      },
      "outputs": [
        {
          "name": "stdout",
          "output_type": "stream",
          "text": [
            "First line (header) looks like this:\n",
            "\n",
            "category,text\n",
            "\n",
            "Each data point looks like this:\n",
            "\n",
            "tech,tv future in the hands of viewers with home theatre systems  plasma high-definition tvs  and digital video recorders moving into the living room  the way people watch tv will be radically different in five years  time.  that is according to an expert panel which gathered at the annual consumer electronics show in las vegas to discuss how these new technologies will impact one of our favourite pastimes. with the us leading the trend  programmes and other content will be delivered to viewers via home networks  through cable  satellite  telecoms companies  and broadband service providers to front rooms and portable devices.  one of the most talked-about technologies of ces has been digital and personal video recorders (dvr and pvr). these set-top boxes  like the us s tivo and the uk s sky+ system  allow people to record  store  play  pause and forward wind tv programmes when they want.  essentially  the technology allows for much more personalised tv. they are also being built-in to high-definition tv sets  which are big business in japan and the us  but slower to take off in europe because of the lack of high-definition programming. not only can people forward wind through adverts  they can also forget about abiding by network and channel schedules  putting together their own a-la-carte entertainment. but some us networks and cable and satellite companies are worried about what it means for them in terms of advertising revenues as well as  brand identity  and viewer loyalty to channels. although the us leads in this technology at the moment  it is also a concern that is being raised in europe  particularly with the growing uptake of services like sky+.  what happens here today  we will see in nine months to a years  time in the uk   adam hume  the bbc broadcast s futurologist told the bbc news website. for the likes of the bbc  there are no issues of lost advertising revenue yet. it is a more pressing issue at the moment for commercial uk broadcasters  but brand loyalty is important for everyone.  we will be talking more about content brands rather than network brands   said tim hanlon  from brand communications firm starcom mediavest.  the reality is that with broadband connections  anybody can be the producer of content.  he added:  the challenge now is that it is hard to promote a programme with so much choice.   what this means  said stacey jolna  senior vice president of tv guide tv group  is that the way people find the content they want to watch has to be simplified for tv viewers. it means that networks  in us terms  or channels could take a leaf out of google s book and be the search engine of the future  instead of the scheduler to help people find what they want to watch. this kind of channel model might work for the younger ipod generation which is used to taking control of their gadgets and what they play on them. but it might not suit everyone  the panel recognised. older generations are more comfortable with familiar schedules and channel brands because they know what they are getting. they perhaps do not want so much of the choice put into their hands  mr hanlon suggested.  on the other end  you have the kids just out of diapers who are pushing buttons already - everything is possible and available to them   said mr hanlon.  ultimately  the consumer will tell the market they want.   of the 50 000 new gadgets and technologies being showcased at ces  many of them are about enhancing the tv-watching experience. high-definition tv sets are everywhere and many new models of lcd (liquid crystal display) tvs have been launched with dvr capability built into them  instead of being external boxes. one such example launched at the show is humax s 26-inch lcd tv with an 80-hour tivo dvr and dvd recorder. one of the us s biggest satellite tv companies  directtv  has even launched its own branded dvr at the show with 100-hours of recording capability  instant replay  and a search function. the set can pause and rewind tv for up to 90 hours. and microsoft chief bill gates announced in his pre-show keynote speech a partnership with tivo  called tivotogo  which means people can play recorded programmes on windows pcs and mobile devices. all these reflect the increasing trend of freeing up multimedia so that people can watch what they want  when they want.\n",
            "\n"
          ]
        }
      ],
      "source": [
        "with open(\"./data/bbc-text.csv\", 'r') as csvfile:\n",
        "    print(f\"First line (header) looks like this:\\n\\n{csvfile.readline()}\")\n",
        "    print(f\"Each data point looks like this:\\n\\n{csvfile.readline()}\")"
      ]
    },
    {
      "cell_type": "markdown",
      "id": "1624e420",
      "metadata": {
        "id": "1624e420"
      },
      "source": [
        "As you can see, each data point is composed of the category of the news article followed by a comma and then the actual text of the article."
      ]
    },
    {
      "cell_type": "markdown",
      "id": "28e9d216",
      "metadata": {
        "id": "28e9d216"
      },
      "source": [
        "## Parse Data from file"
      ]
    },
    {
      "cell_type": "code",
      "execution_count": null,
      "id": "fd40ca26",
      "metadata": {
        "deletable": false,
        "tags": [
          "graded"
        ],
        "id": "fd40ca26"
      },
      "outputs": [],
      "source": [
        " def parse_data_from_file(filename):\n",
        "    \"\"\"\n",
        "    Extracts sentences and labels from a CSV file\n",
        "\n",
        "    Args:\n",
        "        filename (str): path to the CSV file\n",
        "\n",
        "    Returns:\n",
        "        (list[str], list[str]): tuple containing lists of sentences and labels\n",
        "    \"\"\"\n",
        "    sentences = []\n",
        "    labels = []\n",
        "\n",
        "\n",
        "\n",
        "    with open(filename, 'r') as csvfile:\n",
        "        reader = csv.reader(csvfile, delimiter=',')\n",
        "        next(reader)\n",
        "        for row in reader:\n",
        "            labels.append(row[0])\n",
        "            sentences.append(row[1])\n",
        "\n",
        "\n",
        "\n",
        "    return sentences, labels"
      ]
    },
    {
      "cell_type": "code",
      "execution_count": null,
      "id": "e2c9a86e",
      "metadata": {
        "deletable": false,
        "editable": false,
        "id": "e2c9a86e",
        "outputId": "331bf30a-f9e6-4576-a909-69fe4a1e6356"
      },
      "outputs": [
        {
          "name": "stdout",
          "output_type": "stream",
          "text": [
            "There are 2225 sentences in the dataset.\n",
            "\n",
            "First sentence has 737 words.\n",
            "\n",
            "There are 2225 labels in the dataset.\n",
            "\n",
            "The first 5 labels are ['tech', 'business', 'sport', 'sport', 'entertainment']\n",
            "\n",
            "\n"
          ]
        }
      ],
      "source": [
        "sentences, labels = parse_data_from_file(\"./data/bbc-text.csv\")\n",
        "\n",
        "print(f\"There are {len(sentences)} sentences in the dataset.\\n\")\n",
        "print(f\"First sentence has {len(sentences[0].split())} words.\\n\")\n",
        "print(f\"There are {len(labels)} labels in the dataset.\\n\")\n",
        "print(f\"The first 5 labels are {labels[:5]}\\n\\n\")"
      ]
    },
    {
      "cell_type": "markdown",
      "id": "e9df59b3",
      "metadata": {
        "id": "e9df59b3"
      },
      "source": [
        "## Standardize Function\n",
        "\n"
      ]
    },
    {
      "cell_type": "markdown",
      "source": [
        "One important step when working with text data is to standardize it so it is easier to extract information out of it. For instance, one probably want to convert it all to lower-case (so the same word doesn't have different representations such as \"hello\" and \"Hello\") and to remove the [stopwords](https://en.wikipedia.org/wiki/Stop_word) from it. These are the most common words in the language and they rarely provide useful information for the classification process. The next cell provides a list of common stopwords which one can use in the exercise.\n"
      ],
      "metadata": {
        "id": "EkKrk6uchLXO"
      },
      "id": "EkKrk6uchLXO"
    },
    {
      "cell_type": "code",
      "execution_count": null,
      "id": "40742129",
      "metadata": {
        "deletable": false,
        "editable": false,
        "tags": [
          "graded"
        ],
        "id": "40742129"
      },
      "outputs": [],
      "source": [
        "# List of stopwords\n",
        "STOPWORDS = [\"a\", \"about\", \"above\", \"after\", \"again\", \"against\", \"all\", \"am\", \"an\", \"and\", \"any\", \"are\", \"as\", \"at\", \"be\", \"because\", \"been\", \"before\", \"being\", \"below\", \"between\", \"both\", \"but\", \"by\", \"could\", \"did\", \"do\", \"does\", \"doing\", \"down\", \"during\", \"each\", \"few\", \"for\", \"from\", \"further\", \"had\", \"has\", \"have\", \"having\", \"he\", \"he'd\", \"he'll\", \"he's\", \"her\", \"here\", \"here's\", \"hers\", \"herself\", \"him\", \"himself\", \"his\", \"how\", \"how's\", \"i\", \"i'd\", \"i'll\", \"i'm\", \"i've\", \"if\", \"in\", \"into\", \"is\", \"it\", \"it's\", \"its\", \"itself\", \"let's\", \"me\", \"more\", \"most\", \"my\", \"myself\", \"nor\", \"of\", \"on\", \"once\", \"only\", \"or\", \"other\", \"ought\", \"our\", \"ours\", \"ourselves\", \"out\", \"over\", \"own\", \"same\", \"she\", \"she'd\", \"she'll\", \"she's\", \"should\", \"so\", \"some\", \"such\", \"than\", \"that\", \"that's\", \"the\", \"their\", \"theirs\", \"them\", \"themselves\", \"then\", \"there\", \"there's\", \"these\", \"they\", \"they'd\", \"they'll\", \"they're\", \"they've\", \"this\", \"those\", \"through\", \"to\", \"too\", \"under\", \"until\", \"up\", \"very\", \"was\", \"we\", \"we'd\", \"we'll\", \"we're\", \"we've\", \"were\", \"what\", \"what's\", \"when\", \"when's\", \"where\", \"where's\", \"which\", \"while\", \"who\", \"who's\", \"whom\", \"why\", \"why's\", \"with\", \"would\", \"you\", \"you'd\", \"you'll\", \"you're\", \"you've\", \"your\", \"yours\", \"yourself\", \"yourselves\" ]"
      ]
    },
    {
      "cell_type": "code",
      "execution_count": null,
      "id": "33637e35",
      "metadata": {
        "deletable": false,
        "tags": [
          "graded"
        ],
        "id": "33637e35"
      },
      "outputs": [],
      "source": [
        "def standardize_func(sentence):\n",
        "    \"\"\"Standardizes sentences by converting to lower-case and removing stopwords.\n",
        "\n",
        "    Args:\n",
        "        sentence (str): Original sentence.\n",
        "\n",
        "    Returns:\n",
        "        str: Standardized sentence in lower-case and without stopwords.\n",
        "    \"\"\"\n",
        "\n",
        "    sentence = sentence.lower()\n",
        "    words = sentence.split()\n",
        "    filtered_words = [word for word in words if word not in STOPWORDS]\n",
        "    sentence = \" \".join(filtered_words)\n",
        "\n",
        "\n",
        "    return sentence"
      ]
    },
    {
      "cell_type": "code",
      "execution_count": null,
      "id": "7ea8a832",
      "metadata": {
        "deletable": false,
        "editable": false,
        "id": "7ea8a832",
        "outputId": "9733df77-7f34-4e51-fe93-5690f6a68102"
      },
      "outputs": [
        {
          "name": "stdout",
          "output_type": "stream",
          "text": [
            "Original sentence is:\n",
            "Hello! We're just about to see this function in action =)\n",
            "\n",
            "After standardizing:\n",
            "hello! just see function action =)\n",
            "\n",
            "\n",
            "--- Apply the standardization to the dataset ---\n",
            "\n",
            "There are 2225 sentences in the dataset.\n",
            "\n",
            "First sentence has 737 words originally.\n",
            "\n",
            "First sentence has 436 words (after removing stopwords).\n",
            "\n"
          ]
        }
      ],
      "source": [
        "test_sentence = \"Hello! We're just about to see this function in action =)\"\n",
        "standardized_sentence = standardize_func(test_sentence)\n",
        "print(f\"Original sentence is:\\n{test_sentence}\\n\\nAfter standardizing:\\n{standardized_sentence}\")\n",
        "\n",
        "standard_sentences = [standardize_func(sentence) for sentence in sentences]\n",
        "\n",
        "print(\"\\n\\n--- Apply the standardization to the dataset ---\\n\")\n",
        "print(f\"There are {len(standard_sentences)} sentences in the dataset.\\n\")\n",
        "print(f\"First sentence has {len(sentences[0].split())} words originally.\\n\")\n",
        "print(f\"First sentence has {len(standard_sentences[0].split())} words (after removing stopwords).\\n\")"
      ]
    },
    {
      "cell_type": "markdown",
      "id": "93500124",
      "metadata": {
        "id": "93500124"
      },
      "source": [
        "## Fit vectorizer"
      ]
    },
    {
      "cell_type": "code",
      "execution_count": null,
      "id": "a27dedb7",
      "metadata": {
        "deletable": false,
        "tags": [
          "graded"
        ],
        "id": "a27dedb7"
      },
      "outputs": [],
      "source": [
        "def fit_vectorizer(sentences):\n",
        "    \"\"\"\n",
        "    Instantiates the TextVectorization layer and adapts it to the sentences.\n",
        "\n",
        "    Args:\n",
        "        sentences (list[str]): lower-cased sentences without stopwords\n",
        "\n",
        "    Returns:\n",
        "        tf.keras.layers.TextVectorization: an instance of the TextVectorization layer adapted to the texts.\n",
        "    \"\"\"\n",
        "\n",
        "\n",
        "    # Instantiate the TextVectorization class\n",
        "    vectorizer = tf.keras.layers.TextVectorization()\n",
        "\n",
        "    # Adapt to the sentences\n",
        "    vectorizer.adapt(sentences)\n",
        "\n",
        "    return vectorizer"
      ]
    },
    {
      "cell_type": "code",
      "execution_count": null,
      "id": "edfc1352-1a2c-4e70-b656-eba2a1e23f0d",
      "metadata": {
        "deletable": false,
        "editable": false,
        "id": "edfc1352-1a2c-4e70-b656-eba2a1e23f0d",
        "outputId": "e05de148-8b63-4a36-9e40-0718565e0305"
      },
      "outputs": [
        {
          "name": "stdout",
          "output_type": "stream",
          "text": [
            "Vocabulary contains 33088 words\n",
            "\n",
            "[UNK] token included in vocabulary\n"
          ]
        }
      ],
      "source": [
        "# Create the vectorizer adapted to the standardized sentences\n",
        "vectorizer = fit_vectorizer(standard_sentences)\n",
        "\n",
        "# Get the vocabulary\n",
        "vocabulary = vectorizer.get_vocabulary()\n",
        "\n",
        "print(f\"Vocabulary contains {len(vocabulary)} words\\n\")\n",
        "print(\"[UNK] token included in vocabulary\" if \"[UNK]\" in vocabulary else \"[UNK] token NOT included in vocabulary\")"
      ]
    },
    {
      "cell_type": "code",
      "execution_count": null,
      "id": "679f64b3-5c56-41e0-8f35-33e254debf10",
      "metadata": {
        "deletable": false,
        "editable": false,
        "id": "679f64b3-5c56-41e0-8f35-33e254debf10",
        "outputId": "557c0eae-d7dd-4a9c-926c-5ba598944d32"
      },
      "outputs": [
        {
          "name": "stdout",
          "output_type": "stream",
          "text": [
            "First padded sequence looks like this: \n",
            "\n",
            "[  93  155 1186 ...    0    0    0]\n",
            "\n",
            "Tensor of all sequences has shape: (2225, 2418)\n",
            "\n",
            "This means there are 2225 sequences in total and each one has a size of 2418\n"
          ]
        }
      ],
      "source": [
        "# Vectorize and pad sentences\n",
        "padded_sequences = vectorizer(standard_sentences)\n",
        "\n",
        "# Show the output\n",
        "print(f\"First padded sequence looks like this: \\n\\n{padded_sequences[0]}\\n\")\n",
        "print(f\"Tensor of all sequences has shape: {padded_sequences.shape}\\n\")\n",
        "print(f\"This means there are {padded_sequences.shape[0]} sequences in total and each one has a size of {padded_sequences.shape[1]}\")"
      ]
    },
    {
      "cell_type": "markdown",
      "id": "ff3ef524",
      "metadata": {
        "id": "ff3ef524"
      },
      "source": [
        "Notice that now the variable refers to `sequences` rather than `sentences`. This is because all text data is now encoded as a sequence of integers."
      ]
    },
    {
      "cell_type": "markdown",
      "id": "2558ecac-f7c3-4417-bef7-8d926a225b01",
      "metadata": {
        "id": "2558ecac-f7c3-4417-bef7-8d926a225b01"
      },
      "source": [
        "## Fit label Encoder\n"
      ]
    },
    {
      "cell_type": "code",
      "execution_count": null,
      "id": "aa48558a",
      "metadata": {
        "deletable": false,
        "tags": [
          "graded"
        ],
        "id": "aa48558a"
      },
      "outputs": [],
      "source": [
        "\n",
        "def fit_label_encoder(labels):\n",
        "    \"\"\"\n",
        "    Tokenizes the labels\n",
        "\n",
        "    Args:\n",
        "        labels (list[str]): labels to tokenize\n",
        "\n",
        "    Returns:\n",
        "        tf.keras.layers.StringLookup: adapted encoder for labels\n",
        "    \"\"\"\n",
        "\n",
        "    # Instantiate the StringLookup layer without an OOV token\n",
        "    label_encoder = tf.keras.layers.StringLookup(\n",
        "        oov_token=None,\n",
        "        num_oov_indices=0)\n",
        "\n",
        "    # Adapt the layer to the labels\n",
        "    label_encoder.adapt(labels)\n",
        "\n",
        "\n",
        "    return label_encoder"
      ]
    },
    {
      "cell_type": "code",
      "execution_count": null,
      "id": "dd71a405",
      "metadata": {
        "deletable": false,
        "editable": false,
        "id": "dd71a405",
        "outputId": "fd16bb6a-dd98-4808-e84e-825a584c11d0"
      },
      "outputs": [
        {
          "name": "stdout",
          "output_type": "stream",
          "text": [
            "Vocabulary of labels looks like this: ['sport', 'business', 'politics', 'tech', 'entertainment']\n",
            "\n",
            "First ten labels: ['tech', 'business', 'sport', 'sport', 'entertainment', 'politics', 'politics', 'sport', 'sport', 'entertainment']\n",
            "\n",
            "First ten label sequences: [3 1 0 0 4 2 2 0 0 4]\n",
            "\n"
          ]
        }
      ],
      "source": [
        "# Create the encoder adapted to the labels\n",
        "label_encoder = fit_label_encoder(labels)\n",
        "\n",
        "# Get the vocabulary\n",
        "vocabulary = label_encoder.get_vocabulary()\n",
        "\n",
        "# Encode labels\n",
        "label_sequences = label_encoder(labels)\n",
        "\n",
        "print(f\"Vocabulary of labels looks like this: {vocabulary}\\n\")\n",
        "print(f\"First ten labels: {labels[:10]}\\n\")\n",
        "print(f\"First ten label sequences: {label_sequences[:10]}\\n\")"
      ]
    },
    {
      "cell_type": "markdown",
      "source": [
        "The interpretation of the first ten label sequences **[3 1 0 0 4 2 2 0 0 4]** based on the provided **['sport', 'business', 'politics', 'tech', 'entertainment']** is as follows:\n",
        "* 3: Corresponds to the 4th element in the vocabulary, which is 'tech'.\n",
        "* 1: Corresponds to the 2nd element in the vocabulary, which is 'business'.\n",
        "* 0: Corresponds to the 1st element in the vocabulary, which is 'sport'.\n",
        "* 4: Corresponds to the 5th element in the vocabulary, which is 'entertainment'.\n",
        "* 2: Corresponds to the 3rd element in the vocabulary, which is 'politics'.\n",
        "\n",
        "Therefore, the first ten label sequences **[3 1 0 0 4 2 2 0 0 4]** represent the following sequence of labels:\n",
        "\n",
        "**['tech', 'business', 'sport', 'sport', 'entertainment', 'politics', 'politics', 'sport', 'sport', 'entertainment']**\n",
        "\n",
        "This matches the \"First ten labels\" you provided, confirming the interpretation. The numerical sequence is simply an encoded representation of the categorical labels based on their position in the vocabulary list (using 0-based indexing).\n",
        "\n",
        "\n",
        "\n",
        "\n",
        "\n",
        "\n"
      ],
      "metadata": {
        "id": "42BYz1J2h3uI"
      },
      "id": "42BYz1J2h3uI"
    }
  ],
  "metadata": {
    "dlai_version": "1.2.0",
    "grader_version": "1",
    "kernelspec": {
      "display_name": "Python 3 (ipykernel)",
      "language": "python",
      "name": "python3"
    },
    "language_info": {
      "codemirror_mode": {
        "name": "ipython",
        "version": 3
      },
      "file_extension": ".py",
      "mimetype": "text/x-python",
      "name": "python",
      "nbconvert_exporter": "python",
      "pygments_lexer": "ipython3",
      "version": "3.11.6"
    },
    "colab": {
      "provenance": []
    }
  },
  "nbformat": 4,
  "nbformat_minor": 5
}