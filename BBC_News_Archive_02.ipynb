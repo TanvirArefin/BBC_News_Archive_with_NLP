{
  "cells": [
    {
      "cell_type": "markdown",
      "metadata": {
        "id": "xHyVf7BVnIWv"
      },
      "source": [
        "# Load Libraries"
      ]
    },
    {
      "cell_type": "code",
      "execution_count": null,
      "metadata": {
        "deletable": false,
        "editable": false,
        "id": "hmA6EzkQJ5jt",
        "tags": [
          "graded"
        ]
      },
      "outputs": [],
      "source": [
        "import pickle\n",
        "import pandas as pd\n",
        "import numpy as np\n",
        "import tensorflow as tf\n",
        "import matplotlib.pyplot as plt"
      ]
    },
    {
      "cell_type": "code",
      "execution_count": null,
      "metadata": {
        "deletable": false,
        "editable": true,
        "id": "czJWE_AanIW4",
        "tags": [
          "graded"
        ]
      },
      "outputs": [],
      "source": [
        "EMBEDDING_DIM = 100\n",
        "MAX_LENGTH = 32\n",
        "TRAINING_SPLIT = 0.9\n",
        "BATCH_SIZE = 128"
      ]
    },
    {
      "cell_type": "markdown",
      "metadata": {
        "id": "2THTgS-jngYO"
      },
      "source": [
        "The dataset is [Sentiment140 dataset](https://www.tensorflow.org/datasets/catalog/sentiment140), which contains 1.6 million tweets alongside their respective sentiment (0 for negative and 4 for positive)."
      ]
    },
    {
      "cell_type": "code",
      "execution_count": null,
      "metadata": {
        "deletable": false,
        "editable": false,
        "id": "5sySbi6xnIW5",
        "outputId": "f6020c57-3d53-442a-9fc0-8807b169a242"
      },
      "outputs": [
        {
          "data": {
            "text/html": [
              "<div>\n",
              "<style scoped>\n",
              "    .dataframe tbody tr th:only-of-type {\n",
              "        vertical-align: middle;\n",
              "    }\n",
              "\n",
              "    .dataframe tbody tr th {\n",
              "        vertical-align: top;\n",
              "    }\n",
              "\n",
              "    .dataframe thead th {\n",
              "        text-align: right;\n",
              "    }\n",
              "</style>\n",
              "<table border=\"1\" class=\"dataframe\">\n",
              "  <thead>\n",
              "    <tr style=\"text-align: right;\">\n",
              "      <th></th>\n",
              "      <th>0</th>\n",
              "      <th>1</th>\n",
              "      <th>2</th>\n",
              "      <th>3</th>\n",
              "      <th>4</th>\n",
              "      <th>5</th>\n",
              "    </tr>\n",
              "  </thead>\n",
              "  <tbody>\n",
              "    <tr>\n",
              "      <th>0</th>\n",
              "      <td>4</td>\n",
              "      <td>1972002925</td>\n",
              "      <td>Sat May 30 08:21:22 PDT 2009</td>\n",
              "      <td>NO_QUERY</td>\n",
              "      <td>noobpwned</td>\n",
              "      <td>Started my morning off with a bloody nose.   H...</td>\n",
              "    </tr>\n",
              "    <tr>\n",
              "      <th>1</th>\n",
              "      <td>0</td>\n",
              "      <td>2013837538</td>\n",
              "      <td>Tue Jun 02 23:42:53 PDT 2009</td>\n",
              "      <td>NO_QUERY</td>\n",
              "      <td>missjnz</td>\n",
              "      <td>@lawrencebrown  must be a sign you need a holi...</td>\n",
              "    </tr>\n",
              "    <tr>\n",
              "      <th>2</th>\n",
              "      <td>0</td>\n",
              "      <td>1992941765</td>\n",
              "      <td>Mon Jun 01 09:34:24 PDT 2009</td>\n",
              "      <td>NO_QUERY</td>\n",
              "      <td>cupcake147</td>\n",
              "      <td>omg i have to go to summer school!</td>\n",
              "    </tr>\n",
              "    <tr>\n",
              "      <th>3</th>\n",
              "      <td>4</td>\n",
              "      <td>2054702495</td>\n",
              "      <td>Sat Jun 06 07:54:59 PDT 2009</td>\n",
              "      <td>NO_QUERY</td>\n",
              "      <td>heya10</td>\n",
              "      <td>Getting ready to go skydiving. How exciting to...</td>\n",
              "    </tr>\n",
              "    <tr>\n",
              "      <th>4</th>\n",
              "      <td>0</td>\n",
              "      <td>2030659197</td>\n",
              "      <td>Thu Jun 04 08:41:44 PDT 2009</td>\n",
              "      <td>NO_QUERY</td>\n",
              "      <td>Sciteg</td>\n",
              "      <td>As i read a few minutes ago... the visit of Ob...</td>\n",
              "    </tr>\n",
              "  </tbody>\n",
              "</table>\n",
              "</div>"
            ],
            "text/plain": [
              "   0           1                             2         3           4  \\\n",
              "0  4  1972002925  Sat May 30 08:21:22 PDT 2009  NO_QUERY   noobpwned   \n",
              "1  0  2013837538  Tue Jun 02 23:42:53 PDT 2009  NO_QUERY     missjnz   \n",
              "2  0  1992941765  Mon Jun 01 09:34:24 PDT 2009  NO_QUERY  cupcake147   \n",
              "3  4  2054702495  Sat Jun 06 07:54:59 PDT 2009  NO_QUERY      heya10   \n",
              "4  0  2030659197  Thu Jun 04 08:41:44 PDT 2009  NO_QUERY      Sciteg   \n",
              "\n",
              "                                                   5  \n",
              "0  Started my morning off with a bloody nose.   H...  \n",
              "1  @lawrencebrown  must be a sign you need a holi...  \n",
              "2                omg i have to go to summer school!   \n",
              "3  Getting ready to go skydiving. How exciting to...  \n",
              "4  As i read a few minutes ago... the visit of Ob...  "
            ]
          },
          "execution_count": 4,
          "metadata": {},
          "output_type": "execute_result"
        }
      ],
      "source": [
        "data_path = \"./data/training_cleaned.csv\"\n",
        "df = pd.read_csv(data_path, header=None)\n",
        "df.head()"
      ]
    },
    {
      "cell_type": "markdown",
      "metadata": {
        "id": "pjP4gLkenIW4"
      },
      "source": [
        "## Explore the dataset\n",
        "\n",
        "The dataset is provided in a csv file.\n",
        "\n",
        "Each row of this file contains the following values separated by commas:\n",
        "\n",
        "- target: the polarity of the tweet (0 = negative, 4 = positive)\n",
        "\n",
        "- ids: The id of the tweet\n",
        "\n",
        "- date: the date of the tweet\n",
        "\n",
        "- flag: The query. If there is no query, then this value is NO_QUERY.\n",
        "\n",
        "- user: the user that tweeted\n",
        "\n",
        "- text: the text of the tweet\n"
      ]
    },
    {
      "cell_type": "code",
      "execution_count": null,
      "metadata": {
        "deletable": false,
        "editable": false,
        "id": "8E6NL0KlnIW6",
        "outputId": "dd7f6116-ff30-4687-c262-aa219b66ee4a"
      },
      "outputs": [
        {
          "name": "stdout",
          "output_type": "stream",
          "text": [
            "dataset contains 160000 examples\n",
            "\n",
            "Text of second example look like this: @lawrencebrown  must be a sign you need a holiday !\n",
            "\n",
            "Labels of first 5 examples look like this: [1, 0, 0, 1, 0]\n"
          ]
        }
      ],
      "source": [
        "# Standardize labels so they have 0 for negative and 1 for positive\n",
        "labels = df[0].apply(lambda x: 0 if x == 0 else 1).to_numpy()\n",
        "\n",
        "# Since the original dataset does not provide headers you need to index the columns by their index\n",
        "sentences = df[5].to_numpy()\n",
        "\n",
        "# Create the dataset\n",
        "dataset = tf.data.Dataset.from_tensor_slices((sentences, labels))\n",
        "\n",
        "# Get the first 5 elements of the dataset\n",
        "examples = list(dataset.take(5))\n",
        "\n",
        "print(f\"dataset contains {len(dataset)} examples\\n\")\n",
        "\n",
        "print(f\"Text of second example look like this: {examples[1][0].numpy().decode('utf-8')}\\n\")\n",
        "print(f\"Labels of first 5 examples look like this: {[x[1].numpy() for x in examples]}\")"
      ]
    },
    {
      "cell_type": "markdown",
      "metadata": {
        "id": "ij-maUi0nIW7"
      },
      "source": [
        "## train_val_datasets"
      ]
    },
    {
      "cell_type": "code",
      "execution_count": null,
      "metadata": {
        "deletable": false,
        "id": "uImWt_henIW7",
        "tags": [
          "graded"
        ]
      },
      "outputs": [],
      "source": [
        "# GRADED FUNCTION: train_val_datasets\n",
        "\n",
        "def train_val_datasets(dataset):\n",
        "    \"\"\"\n",
        "    Splits the dataset into training and validation sets, after shuffling it.\n",
        "\n",
        "    Args:\n",
        "        dataset (tf.data.Dataset): Tensorflow dataset with elements as (sentence, label)\n",
        "\n",
        "    Returns:\n",
        "        (tf.data.Dataset, tf.data.Dataset): tuple containing the train and validation datasets\n",
        "    \"\"\"\n",
        "\n",
        "    # Shuffle the dataset (buffer size = dataset size to ensure full shuffle)\n",
        "    dataset = dataset.shuffle(buffer_size=len(dataset))\n",
        "\n",
        "    # Compute the number of elements for training\n",
        "    dataset_size = len(dataset)\n",
        "    train_size = int(dataset_size * TRAINING_SPLIT)\n",
        "\n",
        "    # Split the dataset\n",
        "    train_dataset = dataset.take(train_size)\n",
        "    validation_dataset = dataset.skip(train_size)\n",
        "\n",
        "    # Batch the datasets\n",
        "    train_dataset = train_dataset.batch(BATCH_SIZE)\n",
        "    validation_dataset = validation_dataset.batch(BATCH_SIZE)\n",
        "\n",
        "    return train_dataset, validation_dataset"
      ]
    },
    {
      "cell_type": "code",
      "execution_count": null,
      "metadata": {
        "deletable": false,
        "editable": false,
        "id": "p1tvebHcnIW8",
        "outputId": "50874a89-f375-4604-baa1-4ab05d228f74"
      },
      "outputs": [
        {
          "name": "stdout",
          "output_type": "stream",
          "text": [
            "There are 1125 batches for a total of 144000 elements for training.\n",
            "\n",
            "There are 125 batches for a total of 16000 elements for validation.\n",
            "\n"
          ]
        }
      ],
      "source": [
        "# Create the train and validation datasets\n",
        "train_dataset, validation_dataset = train_val_datasets(dataset)\n",
        "\n",
        "print(f\"There are {len(train_dataset)} batches for a total of {BATCH_SIZE*len(train_dataset)} elements for training.\\n\")\n",
        "print(f\"There are {len(validation_dataset)} batches for a total of {BATCH_SIZE*len(validation_dataset)} elements for validation.\\n\")"
      ]
    },
    {
      "cell_type": "markdown",
      "metadata": {
        "id": "klit2mevnIW-"
      },
      "source": [
        "## fit_vectorizer\n"
      ]
    },
    {
      "cell_type": "code",
      "execution_count": null,
      "metadata": {
        "deletable": false,
        "id": "QCd58fPTnIW-",
        "tags": [
          "graded"
        ]
      },
      "outputs": [],
      "source": [
        "def fit_vectorizer(dataset):\n",
        "    \"\"\"\n",
        "    Adapts the TextVectorization layer on the training sentences\n",
        "\n",
        "    Args:\n",
        "        dataset (tf.data.Dataset): Tensorflow dataset with training sentences.\n",
        "\n",
        "    Returns:\n",
        "        tf.keras.layers.TextVectorization: an instance of the TextVectorization class adapted to the training sentences.\n",
        "    \"\"\"\n",
        "\n",
        "    # Instantiate the TextVectorization layer\n",
        "    vectorizer = tf.keras.layers.TextVectorization(\n",
        "        standardize='lower_and_strip_punctuation',\n",
        "        max_tokens=None,\n",
        "        output_mode='int',\n",
        "        output_sequence_length=MAX_LENGTH\n",
        "    )\n",
        "\n",
        "    # Fit (adapt) the vectorizer on the sentences\n",
        "    vectorizer.adapt(dataset)\n",
        "\n",
        "    return vectorizer"
      ]
    },
    {
      "cell_type": "code",
      "execution_count": null,
      "metadata": {
        "deletable": false,
        "editable": false,
        "id": "UNcEmkrLnIW_",
        "outputId": "87e448dd-cf09-4767-d3a6-db72a67a0cbf"
      },
      "outputs": [
        {
          "name": "stdout",
          "output_type": "stream",
          "text": [
            "Vocabulary contains 145760 words\n",
            "\n"
          ]
        }
      ],
      "source": [
        "# Get only the texts out of the dataset\n",
        "text_only_dataset = train_dataset.map(lambda text, label: text)\n",
        "\n",
        "# Adapt the vectorizer to the training sentences\n",
        "vectorizer = fit_vectorizer(text_only_dataset)\n",
        "\n",
        "# Check size of vocabulary\n",
        "vocab_size = vectorizer.vocabulary_size()\n",
        "\n",
        "print(f\"Vocabulary contains {vocab_size} words\\n\")"
      ]
    },
    {
      "cell_type": "code",
      "execution_count": null,
      "metadata": {
        "deletable": false,
        "editable": false,
        "id": "SrvXbCCJnIXA"
      },
      "outputs": [],
      "source": [
        "# Apply vectorization to train and val datasets\n",
        "train_dataset_vectorized = train_dataset.map(lambda x,y: (vectorizer(x), y))\n",
        "validation_dataset_vectorized = validation_dataset.map(lambda x,y: (vectorizer(x), y))"
      ]
    },
    {
      "cell_type": "markdown",
      "metadata": {
        "id": "ZzhzosKWnIXL"
      },
      "source": [
        "### Using pre-defined Embeddings"
      ]
    },
    {
      "cell_type": "code",
      "execution_count": null,
      "metadata": {
        "deletable": false,
        "editable": false,
        "id": "lk8fbXvUnIXM"
      },
      "outputs": [],
      "source": [
        "# Define path to file containing the embeddings\n",
        "glove_file = './data/glove.6B.100d.txt'\n",
        "\n",
        "# Initialize an empty embeddings index dictionary\n",
        "glove_embeddings = {}\n",
        "\n",
        "# Read file and fill glove_embeddings with its contents\n",
        "with open(glove_file) as f:\n",
        "    for line in f:\n",
        "        values = line.split()\n",
        "        word = values[0]\n",
        "        coefs = np.asarray(values[1:], dtype='float32')\n",
        "        glove_embeddings[word] = coefs"
      ]
    },
    {
      "cell_type": "code",
      "execution_count": null,
      "metadata": {
        "deletable": false,
        "editable": true,
        "id": "6hjdTw1mnIXN",
        "outputId": "84bba19c-6861-4ce1-c2b0-3e8b65bf6613"
      },
      "outputs": [
        {
          "name": "stdout",
          "output_type": "stream",
          "text": [
            "Vector representation of word dog looks like this:\n",
            "\n",
            "[ 0.30817    0.30938    0.52803   -0.92543   -0.73671    0.63475\n",
            "  0.44197    0.10262   -0.09142   -0.56607   -0.5327     0.2013\n",
            "  0.7704    -0.13983    0.13727    1.1128     0.89301   -0.17869\n",
            " -0.0019722  0.57289    0.59479    0.50428   -0.28991   -1.3491\n",
            "  0.42756    1.2748    -1.1613    -0.41084    0.042804   0.54866\n",
            "  0.18897    0.3759     0.58035    0.66975    0.81156    0.93864\n",
            " -0.51005   -0.070079   0.82819   -0.35346    0.21086   -0.24412\n",
            " -0.16554   -0.78358   -0.48482    0.38968   -0.86356   -0.016391\n",
            "  0.31984   -0.49246   -0.069363   0.018869  -0.098286   1.3126\n",
            " -0.12116   -1.2399    -0.091429   0.35294    0.64645    0.089642\n",
            "  0.70294    1.1244     0.38639    0.52084    0.98787    0.79952\n",
            " -0.34625    0.14095    0.80167    0.20987   -0.86007   -0.15308\n",
            "  0.074523   0.40816    0.019208   0.51587   -0.34428   -0.24525\n",
            " -0.77984    0.27425    0.22418    0.20164    0.017431  -0.014697\n",
            " -1.0235    -0.39695   -0.0056188  0.30569    0.31748    0.021404\n",
            "  0.11837   -0.11319    0.42456    0.53405   -0.16717   -0.27185\n",
            " -0.6255     0.12883    0.62529   -0.52086  ]\n"
          ]
        }
      ],
      "source": [
        "test_word = 'dog'\n",
        "\n",
        "test_vector = glove_embeddings[test_word]\n",
        "\n",
        "print(f\"Vector representation of word {test_word} looks like this:\\n\\n{test_vector}\")"
      ]
    },
    {
      "cell_type": "code",
      "execution_count": null,
      "metadata": {
        "deletable": false,
        "editable": false,
        "id": "4XHzIHLknIXN",
        "outputId": "a5af2034-dd83-40d3-b44e-afef75efea5f"
      },
      "outputs": [
        {
          "name": "stdout",
          "output_type": "stream",
          "text": [
            "Each word vector has shape: (100,)\n"
          ]
        }
      ],
      "source": [
        "print(f\"Each word vector has shape: {test_vector.shape}\")"
      ]
    },
    {
      "cell_type": "code",
      "execution_count": null,
      "metadata": {
        "deletable": false,
        "editable": false,
        "id": "A8q6NPMdnIXO",
        "outputId": "24e326bf-de4b-4050-c467-1fd35732c661"
      },
      "outputs": [
        {
          "name": "stdout",
          "output_type": "stream",
          "text": [
            "The word dog is encoded as: 503\n"
          ]
        }
      ],
      "source": [
        "# Create a word index dictionary\n",
        "word_index = {x:i for i,x in enumerate(vectorizer.get_vocabulary())}\n",
        "\n",
        "print(f\"The word dog is encoded as: {word_index['dog']}\")"
      ]
    },
    {
      "cell_type": "code",
      "execution_count": null,
      "metadata": {
        "deletable": false,
        "editable": false,
        "id": "C1zdgJkusRh0"
      },
      "outputs": [],
      "source": [
        "# Initialize an empty numpy array with the appropriate size\n",
        "embeddings_matrix = np.zeros((vocab_size, EMBEDDING_DIM))\n",
        "\n",
        "# Iterate all of the words in the vocabulary and if the vector representation for\n",
        "# each word exists within GloVe's representations, save it in the embeddings_matrix array\n",
        "for word, i in word_index.items():\n",
        "    embedding_vector = glove_embeddings.get(word)\n",
        "    if embedding_vector is not None:\n",
        "        embeddings_matrix[i] = embedding_vector"
      ]
    },
    {
      "cell_type": "code",
      "execution_count": null,
      "metadata": {
        "deletable": false,
        "editable": false,
        "id": "dUxLxLPMnIXP",
        "outputId": "f82e35d4-2b91-45b4-d3cf-b966cf95dc86"
      },
      "outputs": [
        {
          "name": "stdout",
          "output_type": "stream",
          "text": [
            "word: dog, index: 503\n",
            "\n",
            "Embedding is equal to column 503 in the embeddings_matrix: True\n"
          ]
        }
      ],
      "source": [
        "test_word = 'dog'\n",
        "\n",
        "test_word_id = word_index[test_word]\n",
        "\n",
        "test_vector_dog = glove_embeddings[test_word]\n",
        "\n",
        "test_embedding_dog = embeddings_matrix[test_word_id]\n",
        "\n",
        "both_equal = np.allclose(test_vector_dog,test_embedding_dog)\n",
        "\n",
        "print(f\"word: {test_word}, index: {test_word_id}\\n\\nEmbedding is equal to column {test_word_id} in the embeddings_matrix: {both_equal}\")"
      ]
    },
    {
      "cell_type": "markdown",
      "metadata": {
        "id": "17tiEKmZnIXQ"
      },
      "source": [
        "## create_model"
      ]
    },
    {
      "cell_type": "code",
      "execution_count": 1,
      "metadata": {
        "deletable": false,
        "id": "P9AS_kbhnIXR",
        "tags": [
          "graded"
        ]
      },
      "outputs": [],
      "source": [
        "def create_model(vocab_size, pretrained_embeddings):\n",
        "    \"\"\"\n",
        "    Creates a binary sentiment classifier model\n",
        "\n",
        "    Args:\n",
        "        vocab_size (int): Number of words in the vocabulary.\n",
        "        pretrained_embeddings (np.ndarray): Array containing pre-trained embeddings.\n",
        "\n",
        "    Returns:\n",
        "        (tf.keras Model): the sentiment classifier model\n",
        "    \"\"\"\n",
        "    embedding_dim = pretrained_embeddings.shape[1]\n",
        "\n",
        "    model = tf.keras.Sequential([\n",
        "    tf.keras.layers.Input(shape=(MAX_LENGTH,)),\n",
        "    tf.keras.layers.Embedding(\n",
        "        input_dim=vocab_size,\n",
        "        output_dim=embedding_dim,\n",
        "        weights=[pretrained_embeddings],\n",
        "        trainable=False\n",
        "    ),\n",
        "    tf.keras.layers.Conv1D(128, 5, activation='relu'),\n",
        "    tf.keras.layers.GlobalMaxPooling1D(),\n",
        "    tf.keras.layers.Dropout(0.5),\n",
        "    tf.keras.layers.Dense(64, activation='relu'),\n",
        "    tf.keras.layers.Dense(1, activation='sigmoid')\n",
        "    ])\n",
        "\n",
        "    model.compile(\n",
        "        loss='binary_crossentropy',\n",
        "        optimizer='adam',\n",
        "        metrics=['accuracy']\n",
        "    )\n",
        "\n",
        "    return model"
      ]
    },
    {
      "cell_type": "code",
      "execution_count": null,
      "metadata": {
        "deletable": false,
        "editable": false,
        "id": "6EPJw24gnIXT",
        "outputId": "985dae57-d5f8-4a58-ee2b-838e36b4c6b3"
      },
      "outputs": [
        {
          "name": "stdout",
          "output_type": "stream",
          "text": [
            "\u001b[92mYour model has 14,648,449 total parameters and the reference is 15,000,000\u001b[92m. You are good to go!\n",
            "\n",
            "\u001b[92mYour model has 72,449 trainable parameters and the reference is 35,000\n",
            "\u001b[91mWarning! this exceeds the reference which is 35,000. If the kernel crashes while training, switch to a simpler architecture.\n"
          ]
        }
      ],
      "source": [
        "# Create your untrained model\n",
        "model = create_model(vocab_size, embeddings_matrix)\n",
        "\n",
        "# Check parameter count against a reference solution\n",
        "unittests.parameter_count(model)"
      ]
    },
    {
      "cell_type": "code",
      "execution_count": null,
      "metadata": {
        "deletable": false,
        "editable": false,
        "id": "GvoVoOiDnIXU",
        "outputId": "1158bee8-682f-4bcd-c918-b6deb729764f"
      },
      "outputs": [
        {
          "name": "stderr",
          "output_type": "stream",
          "text": [
            "WARNING: All log messages before absl::InitializeLog() is called are written to STDERR\n",
            "I0000 00:00:1748606383.711424     228 service.cc:145] XLA service 0x7400cc006170 initialized for platform CUDA (this does not guarantee that XLA will be used). Devices:\n",
            "I0000 00:00:1748606383.711555     228 service.cc:153]   StreamExecutor device (0): NVIDIA A10G, Compute Capability 8.6\n",
            "I0000 00:00:1748606384.279193     228 device_compiler.h:188] Compiled cluster using XLA!  This line is logged at most once for the lifetime of the process.\n"
          ]
        },
        {
          "name": "stdout",
          "output_type": "stream",
          "text": [
            "predictions have shape: (128, 1)\n"
          ]
        }
      ],
      "source": [
        "# Take an example batch of data\n",
        "example_batch = train_dataset_vectorized.take(1)\n",
        "\n",
        "try:\n",
        "\tmodel.evaluate(example_batch, verbose=False)\n",
        "except:\n",
        "\tprint(\"Your model is not compatible with the dataset you defined earlier. Check that the loss function and last layer are compatible with one another.\")\n",
        "else:\n",
        "\tpredictions = model.predict(example_batch, verbose=False)\n",
        "\tprint(f\"predictions have shape: {predictions.shape}\")"
      ]
    },
    {
      "cell_type": "code",
      "execution_count": null,
      "metadata": {
        "deletable": false,
        "editable": false,
        "id": "gIJDaNbHnIXV",
        "outputId": "434ce5f4-1271-42bd-a837-ccb55f685cba"
      },
      "outputs": [
        {
          "name": "stdout",
          "output_type": "stream",
          "text": [
            "Epoch 1/20\n",
            "\u001b[1m1125/1125\u001b[0m \u001b[32m━━━━━━━━━━━━━━━━━━━━\u001b[0m\u001b[37m\u001b[0m \u001b[1m4s\u001b[0m 2ms/step - accuracy: 0.6580 - loss: 0.6122 - val_accuracy: 0.7538 - val_loss: 0.5093\n",
            "Epoch 2/20\n",
            "\u001b[1m1125/1125\u001b[0m \u001b[32m━━━━━━━━━━━━━━━━━━━━\u001b[0m\u001b[37m\u001b[0m \u001b[1m2s\u001b[0m 2ms/step - accuracy: 0.7396 - loss: 0.5219 - val_accuracy: 0.7741 - val_loss: 0.4803\n",
            "Epoch 3/20\n",
            "\u001b[1m1125/1125\u001b[0m \u001b[32m━━━━━━━━━━━━━━━━━━━━\u001b[0m\u001b[37m\u001b[0m \u001b[1m2s\u001b[0m 2ms/step - accuracy: 0.7543 - loss: 0.5005 - val_accuracy: 0.7861 - val_loss: 0.4732\n",
            "Epoch 4/20\n",
            "\u001b[1m1125/1125\u001b[0m \u001b[32m━━━━━━━━━━━━━━━━━━━━\u001b[0m\u001b[37m\u001b[0m \u001b[1m2s\u001b[0m 2ms/step - accuracy: 0.7625 - loss: 0.4868 - val_accuracy: 0.7871 - val_loss: 0.4709\n",
            "Epoch 5/20\n",
            "\u001b[1m1125/1125\u001b[0m \u001b[32m━━━━━━━━━━━━━━━━━━━━\u001b[0m\u001b[37m\u001b[0m \u001b[1m2s\u001b[0m 2ms/step - accuracy: 0.7664 - loss: 0.4810 - val_accuracy: 0.7996 - val_loss: 0.4510\n",
            "Epoch 6/20\n",
            "\u001b[1m1125/1125\u001b[0m \u001b[32m━━━━━━━━━━━━━━━━━━━━\u001b[0m\u001b[37m\u001b[0m \u001b[1m2s\u001b[0m 2ms/step - accuracy: 0.7752 - loss: 0.4697 - val_accuracy: 0.8049 - val_loss: 0.4386\n",
            "Epoch 7/20\n",
            "\u001b[1m1125/1125\u001b[0m \u001b[32m━━━━━━━━━━━━━━━━━━━━\u001b[0m\u001b[37m\u001b[0m \u001b[1m2s\u001b[0m 2ms/step - accuracy: 0.7785 - loss: 0.4643 - val_accuracy: 0.8034 - val_loss: 0.4415\n",
            "Epoch 8/20\n",
            "\u001b[1m1125/1125\u001b[0m \u001b[32m━━━━━━━━━━━━━━━━━━━━\u001b[0m\u001b[37m\u001b[0m \u001b[1m2s\u001b[0m 2ms/step - accuracy: 0.7811 - loss: 0.4584 - val_accuracy: 0.8122 - val_loss: 0.4413\n",
            "Epoch 9/20\n",
            "\u001b[1m1125/1125\u001b[0m \u001b[32m━━━━━━━━━━━━━━━━━━━━\u001b[0m\u001b[37m\u001b[0m \u001b[1m2s\u001b[0m 2ms/step - accuracy: 0.7858 - loss: 0.4531 - val_accuracy: 0.8117 - val_loss: 0.4254\n",
            "Epoch 10/20\n",
            "\u001b[1m1125/1125\u001b[0m \u001b[32m━━━━━━━━━━━━━━━━━━━━\u001b[0m\u001b[37m\u001b[0m \u001b[1m2s\u001b[0m 2ms/step - accuracy: 0.7883 - loss: 0.4470 - val_accuracy: 0.8208 - val_loss: 0.4224\n",
            "Epoch 11/20\n",
            "\u001b[1m1125/1125\u001b[0m \u001b[32m━━━━━━━━━━━━━━━━━━━━\u001b[0m\u001b[37m\u001b[0m \u001b[1m2s\u001b[0m 2ms/step - accuracy: 0.7875 - loss: 0.4463 - val_accuracy: 0.8211 - val_loss: 0.4181\n",
            "Epoch 12/20\n",
            "\u001b[1m1125/1125\u001b[0m \u001b[32m━━━━━━━━━━━━━━━━━━━━\u001b[0m\u001b[37m\u001b[0m \u001b[1m2s\u001b[0m 2ms/step - accuracy: 0.7909 - loss: 0.4415 - val_accuracy: 0.8183 - val_loss: 0.4286\n",
            "Epoch 13/20\n",
            "\u001b[1m1125/1125\u001b[0m \u001b[32m━━━━━━━━━━━━━━━━━━━━\u001b[0m\u001b[37m\u001b[0m \u001b[1m2s\u001b[0m 2ms/step - accuracy: 0.7967 - loss: 0.4347 - val_accuracy: 0.8290 - val_loss: 0.4127\n",
            "Epoch 14/20\n",
            "\u001b[1m1125/1125\u001b[0m \u001b[32m━━━━━━━━━━━━━━━━━━━━\u001b[0m\u001b[37m\u001b[0m \u001b[1m2s\u001b[0m 2ms/step - accuracy: 0.7972 - loss: 0.4321 - val_accuracy: 0.8267 - val_loss: 0.4189\n",
            "Epoch 15/20\n",
            "\u001b[1m1125/1125\u001b[0m \u001b[32m━━━━━━━━━━━━━━━━━━━━\u001b[0m\u001b[37m\u001b[0m \u001b[1m2s\u001b[0m 2ms/step - accuracy: 0.7997 - loss: 0.4290 - val_accuracy: 0.8328 - val_loss: 0.4069\n",
            "Epoch 16/20\n",
            "\u001b[1m1125/1125\u001b[0m \u001b[32m━━━━━━━━━━━━━━━━━━━━\u001b[0m\u001b[37m\u001b[0m \u001b[1m2s\u001b[0m 2ms/step - accuracy: 0.8008 - loss: 0.4292 - val_accuracy: 0.8340 - val_loss: 0.4108\n",
            "Epoch 17/20\n",
            "\u001b[1m1125/1125\u001b[0m \u001b[32m━━━━━━━━━━━━━━━━━━━━\u001b[0m\u001b[37m\u001b[0m \u001b[1m2s\u001b[0m 2ms/step - accuracy: 0.8021 - loss: 0.4225 - val_accuracy: 0.8372 - val_loss: 0.3997\n",
            "Epoch 18/20\n",
            "\u001b[1m1125/1125\u001b[0m \u001b[32m━━━━━━━━━━━━━━━━━━━━\u001b[0m\u001b[37m\u001b[0m \u001b[1m2s\u001b[0m 2ms/step - accuracy: 0.8035 - loss: 0.4228 - val_accuracy: 0.8383 - val_loss: 0.3977\n",
            "Epoch 19/20\n",
            "\u001b[1m1125/1125\u001b[0m \u001b[32m━━━━━━━━━━━━━━━━━━━━\u001b[0m\u001b[37m\u001b[0m \u001b[1m2s\u001b[0m 2ms/step - accuracy: 0.8069 - loss: 0.4182 - val_accuracy: 0.8434 - val_loss: 0.3978\n",
            "Epoch 20/20\n",
            "\u001b[1m1125/1125\u001b[0m \u001b[32m━━━━━━━━━━━━━━━━━━━━\u001b[0m\u001b[37m\u001b[0m \u001b[1m2s\u001b[0m 2ms/step - accuracy: 0.8085 - loss: 0.4143 - val_accuracy: 0.8372 - val_loss: 0.3969\n"
          ]
        }
      ],
      "source": [
        "# Train the model and save the training history\n",
        "history = model.fit(\n",
        "\ttrain_dataset_vectorized,\n",
        "\tepochs=20,\n",
        "\tvalidation_data=validation_dataset_vectorized\n",
        ")"
      ]
    },
    {
      "cell_type": "code",
      "execution_count": null,
      "metadata": {
        "deletable": false,
        "editable": false,
        "id": "nHLgGXnMnIXX",
        "outputId": "eb192fe1-c366-454d-87c7-def5187a66ca"
      },
      "outputs": [
        {
          "data": {
            "image/png": "[encoded data removed]",
            "text/plain": [
              "<Figure size 1000x500 with 2 Axes>"
            ]
          },
          "metadata": {},
          "output_type": "display_data"
        }
      ],
      "source": [
        "# Get training and validation accuracies\n",
        "acc = history.history['accuracy']\n",
        "val_acc = history.history['val_accuracy']\n",
        "loss = history.history['loss']\n",
        "val_loss = history.history['val_loss']\n",
        "\n",
        "# Get number of epochs\n",
        "epochs = range(len(acc))\n",
        "\n",
        "fig, ax = plt.subplots(1, 2, figsize=(10, 5))\n",
        "fig.suptitle('Training and validation performance')\n",
        "\n",
        "for i, (data, label) in enumerate(zip([(acc, val_acc), (loss, val_loss)], [\"Accuracy\", \"Loss\"])):\n",
        "    ax[i].plot(epochs, data[0], 'r', label=\"Training \" + label)\n",
        "    ax[i].plot(epochs, data[1], 'b', label=\"Validation \" + label)\n",
        "    ax[i].legend()\n",
        "    ax[i].set_xlabel('epochs')"
      ]
    },
    {
      "cell_type": "markdown",
      "metadata": {
        "id": "t1CDXVbvpg7f"
      },
      "source": [
        "The image displays two plots showing the training and validation performance of a machine learning model over epochs. The left plot illustrates the accuracy, where both training and validation accuracy increase with epochs, with the validation accuracy generally staying slightly below the training accuracy but showing a good trend of improvement and eventual plateauing. The right plot shows the loss, where both training and validation loss decrease over epochs, with the validation loss initially higher but converging towards the training loss and also plateauing. Overall, the graphs suggest a good fit without significant overfitting, as the validation metrics follow the training metrics closely and stabilize, indicating that the model is learning and generalizing well to unseen data."
      ]
    },
    {
      "cell_type": "code",
      "execution_count": null,
      "metadata": {
        "id": "CX4mYXmWphVn"
      },
      "outputs": [],
      "source": []
    }
  ],
  "metadata": {
    "colab": {
      "provenance": []
    },
    "grader_version": "1",
    "kernelspec": {
      "display_name": "Python 3 (ipykernel)",
      "language": "python",
      "name": "python3"
    },
    "language_info": {
      "codemirror_mode": {
        "name": "ipython",
        "version": 3
      },
      "file_extension": ".py",
      "mimetype": "text/x-python",
      "name": "python",
      "nbconvert_exporter": "python",
      "pygments_lexer": "ipython3",
      "version": "3.11.0rc1"
    }
  },
  "nbformat": 4,
  "nbformat_minor": 0
}
